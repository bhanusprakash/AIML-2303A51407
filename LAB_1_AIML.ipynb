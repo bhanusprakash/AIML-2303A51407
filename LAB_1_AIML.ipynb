{
  "nbformat": 4,
  "nbformat_minor": 0,
  "metadata": {
    "colab": {
      "provenance": [],
      "authorship_tag": "ABX9TyOCV3AoZX90SN/cw8qzzK+8",
      "include_colab_link": true
    },
    "kernelspec": {
      "name": "python3",
      "display_name": "Python 3"
    },
    "language_info": {
      "name": "python"
    }
  },
  "cells": [
    {
      "cell_type": "markdown",
      "metadata": {
        "id": "view-in-github",
        "colab_type": "text"
      },
      "source": [
        "<a href=\"https://colab.research.google.com/github/bhanusprakash/AIML-2303A51407/blob/main/LAB_1_AIML.ipynb\" target=\"_parent\"><img src=\"https://colab.research.google.com/assets/colab-badge.svg\" alt=\"Open In Colab\"/></a>"
      ]
    },
    {
      "cell_type": "code",
      "execution_count": null,
      "metadata": {
        "id": "kVBsr_RmHOG7"
      },
      "outputs": [],
      "source": [
        "import numpy as np\n",
        "list1=[1,2,3]\n",
        "array1=np.array(list1)\n",
        "array1\n",
        "\n",
        "\n"
      ]
    },
    {
      "cell_type": "code",
      "source": [
        "from google.colab import drive\n",
        "drive.mount('/content/drive')\n",
        ""
      ],
      "metadata": {
        "id": "Dtah8z7zHaw0"
      },
      "execution_count": null,
      "outputs": []
    },
    {
      "cell_type": "code",
      "source": [
        "\n",
        "type(list1)"
      ],
      "metadata": {
        "id": "pQHtORuOHdqR"
      },
      "execution_count": null,
      "outputs": []
    },
    {
      "cell_type": "code",
      "source": [
        "array2=np.array([2,3,4])\n",
        "array2"
      ],
      "metadata": {
        "id": "fg9P1f6XHlB3"
      },
      "execution_count": null,
      "outputs": []
    },
    {
      "cell_type": "code",
      "source": [
        "\n",
        "print(\"adding {array1} and {array2}\",array1+array2)"
      ],
      "metadata": {
        "id": "jKBcotSvHoQc"
      },
      "execution_count": null,
      "outputs": []
    },
    {
      "cell_type": "code",
      "source": [
        "np.power(array1,array2)\n"
      ],
      "metadata": {
        "id": "spJslOiAHsDO"
      },
      "execution_count": null,
      "outputs": []
    },
    {
      "cell_type": "code",
      "source": [
        "print(\"multiplication of {array1} and {array2} is \" ,array1*array2)\n"
      ],
      "metadata": {
        "id": "Ena4gRoNHuzn"
      },
      "execution_count": null,
      "outputs": []
    },
    {
      "cell_type": "code",
      "source": [
        "people= [\"prgg\",\"vvr\", \"ram\",\"funny\",\"sweety\"]\n",
        "age=[16,38,40,15,18]\n",
        "weight=[42,50,60,40,40]\n",
        "height=[100,101,102,103,105]\n",
        ""
      ],
      "metadata": {
        "id": "XfL5FLYcHyqU"
      },
      "execution_count": null,
      "outputs": []
    },
    {
      "cell_type": "code",
      "source": [
        "import matplotlib.pyplot as plt\n"
      ],
      "metadata": {
        "id": "3nzjiECsH1qu"
      },
      "execution_count": null,
      "outputs": []
    },
    {
      "cell_type": "code",
      "source": [
        "plt.scatter(weight,height)\n",
        "plt.title(\"relationship between weight and height of people\")\n",
        "plt.ylabel(\"height in meters\")\n",
        "plt.xlabel(\"weight of people\")\n",
        "plt.show()"
      ],
      "metadata": {
        "id": "D3CMOFawH4JF"
      },
      "execution_count": null,
      "outputs": []
    },
    {
      "cell_type": "code",
      "source": [
        "plt.figure(figsize=(5,4))\n",
        "plt.title(\"people's weight in kgs\", fontsize=16, fontstyle='italic')\n",
        "plt.bar(x=people,height=weight, width=0.5,color='orange',edgecolor='k', alpha=0.6)\n",
        "plt.xlabel(\"people\",fontsize=20)\n",
        "plt.ylabel(\"weight {in kgs}\", fontsize=15)\n",
        "plt.show()"
      ],
      "metadata": {
        "id": "-2YIuXbXH7Ot"
      },
      "execution_count": null,
      "outputs": []
    }
  ]
}