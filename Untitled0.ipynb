{
  "nbformat": 4,
  "nbformat_minor": 0,
  "metadata": {
    "colab": {
      "provenance": [],
      "authorship_tag": "ABX9TyNpr1wkBN7zx08pvxYD4JMd",
      "include_colab_link": true
    },
    "kernelspec": {
      "name": "python3",
      "display_name": "Python 3"
    },
    "language_info": {
      "name": "python"
    }
  },
  "cells": [
    {
      "cell_type": "markdown",
      "metadata": {
        "id": "view-in-github",
        "colab_type": "text"
      },
      "source": [
        "<a href=\"https://colab.research.google.com/github/bhanusprakash/AIML-2303A51407/blob/main/Untitled0.ipynb\" target=\"_parent\"><img src=\"https://colab.research.google.com/assets/colab-badge.svg\" alt=\"Open In Colab\"/></a>"
      ]
    },
    {
      "cell_type": "code",
      "execution_count": null,
      "metadata": {
        "id": "rQmXwvhxFJmY"
      },
      "outputs": [],
      "source": [
        "import numpy as np\n",
        "from queue import Queue\n",
        "graph={0:[1,2,3],1:[0,2],2:[0,1,3,5],3:[0,2,4],4:[3,5,7],5:[4,6,7],6:[5,7],7:[4,5,6],8:[]}\n",
        "print(\"The adjacency List representing the graph is:\")\n",
        "print(graph)\n",
        "def bfs(graph,source):\n",
        "  Q=Queue()\n",
        "  visited_vertices=set()\n",
        "  Q.put(source)\n",
        "  visited_vertices.update({source})\n",
        "  while not Q.empty():\n",
        "    vertex=Q.get()\n",
        "    print(vertex,end=\"-->\")\n",
        "    for u in graph[vertex]:\n",
        "        if u not in visited_vertices:\n",
        "           Q.put(u)\n",
        "           visited_vertices.update({u})\n",
        "print(\"BFS traversal of graph with source 0is:\")\n",
        "bfs(graph,0)"
      ]
    },
    {
      "cell_type": "code",
      "source": [
        "graph1={\n",
        "      'A':['C','D','G'],\n",
        "          'B':['A'],\n",
        "              'C':['A','D','F'],\n",
        "                  'D':['A','C','E','G','H'],\n",
        "                      'E':['D','F','H'],\n",
        "                          'F':['C','E'],\n",
        "                              'G':['A','D','H'],\n",
        "                                  'H':['D','E','G'],\n",
        "\n",
        "                                  }\n",
        "print(\"The adjacency List representing the graph is:\")\n",
        "print(graph1)\n",
        "def dfs(graph,node,visited):\n",
        "  if node not in visited:\n",
        "    visited.append(node)\n",
        "    for k in graph[node]:\n",
        "      dfs(graph,k,visited)\n",
        "      return visited\n",
        "      visited=dfs(graph1,'B',[])\n",
        "      print(visited)"
      ],
      "metadata": {
        "id": "iU-H-9tvFQ4X"
      },
      "execution_count": null,
      "outputs": []
    },
    {
      "cell_type": "code",
      "source": [
        "from heapq import heappush, heappop\n",
        "import numpy as np\n",
        "\n",
        "# Function to calculate the number of misplaced tiles\n",
        "def misplaced_tiles(puzzle, goal):\n",
        "    return np.sum(puzzle != goal) - 1 if np.sum(puzzle != goal) > 0 else 0\n",
        "\n",
        "# Function to get the coordinates of tiles in a 1D array format\n",
        "def get_positions(puzzle):\n",
        "    positions = np.zeros(9, dtype=int)\n",
        "    for idx, tile in enumerate(puzzle):\n",
        "        positions[tile] = idx\n",
        "    return positions\n",
        "\n",
        "# Function to reconstruct the path from the initial state to the goal state\n",
        "def reconstruct_path(state, idx):\n",
        "    path = []\n",
        "    while idx != -1:\n",
        "        path.append(state[idx]['puzzle'])\n",
        "        idx = state[idx]['parent']\n",
        "    return path[::-1]\n",
        "\n",
        "# A* algorithm using the misplaced tiles heuristic\n",
        "def a_star_misplaced(puzzle, goal):\n",
        "    # Possible moves: up, down, left, right\n",
        "    moves = [('up', [0, 1, 2], -3), ('down', [6, 7, 8], 3),\n",
        "             ('left', [0, 3, 6], -1), ('right', [2, 5, 8], 1)]\n",
        "\n",
        "    # State structure: (puzzle, parent index, g(n), h(n))\n",
        "    dt_state = [('puzzle', list), ('parent', int), ('gn', int), ('hn', int)]\n",
        "\n",
        "    # Initial state\n",
        "    initial_hn = misplaced_tiles(get_positions(puzzle), get_positions(goal))\n",
        "    state = np.array([(puzzle, -1, 0, initial_hn)], dt_state)\n",
        "\n",
        "    # Priority queue: (f(n), state index)\n",
        "    priority_queue = [(initial_hn, 0)]\n",
        "\n",
        "    visited = set()\n",
        "    visited.add(tuple(puzzle))\n",
        "\n",
        "    while priority_queue:\n",
        "        fn, idx = heappop(priority_queue)\n",
        "        current_puzzle, parent, gn, hn = state[idx]\n",
        "        current_puzzle = np.array(current_puzzle)\n",
        "\n",
        "        # If the goal state is reached\n",
        "        if np.array_equal(current_puzzle, goal):\n",
        "            return reconstruct_path(state, idx), len(state)\n",
        "\n",
        "        # Blank tile position\n",
        "        blank_pos = int(np.where(current_puzzle == 0)[0])\n",
        "\n",
        "        for move_name, move_pos, move_shift in moves:\n",
        "            if blank_pos not in move_pos:\n",
        "                new_puzzle = current_puzzle.copy()\n",
        "                new_puzzle[blank_pos], new_puzzle[blank_pos + move_shift] = new_puzzle[blank_pos + move_shift], new_puzzle[blank_pos]\n",
        "\n",
        "                if tuple(new_puzzle) not in visited:\n",
        "                    visited.add(tuple(new_puzzle))\n",
        "                    new_gn = gn + 1\n",
        "                    new_hn = misplaced_tiles(get_positions(new_puzzle), get_positions(goal))\n",
        "                    new_state = (new_puzzle.tolist(), idx, new_gn, new_hn)\n",
        "                    state = np.append(state, np.array([new_state], dt_state))\n",
        "                    heappush(priority_queue, (new_gn + new_hn, len(state) - 1))\n",
        "\n",
        "    return None, len(state)\n",
        "\n",
        "# Initial state\n",
        "puzzle = [4, 1, 5, 3, 0, 7, 8, 6, 2]\n",
        "# Goal state\n",
        "goal = [1, 2, 3, 4, 5, 6, 7, 8, 0]\n",
        "\n",
        "# Solve the puzzle\n",
        "solution, nodes_visited = a_star_misplaced(puzzle, goal)\n",
        "\n",
        "if solution:\n",
        "    for step in solution:\n",
        "        print(np.array(step).reshape(3, 3))\n",
        "        print()\n",
        "    print('Steps to reach goal:', len(solution) - 1)\n",
        "    print('Total nodes visited:', nodes_visited)\n",
        "else:\n",
        "    print(\"The puzzle is unsolvable\")\n",
        "\n",
        ""
      ],
      "metadata": {
        "id": "mn4EvJh3FUSZ"
      },
      "execution_count": null,
      "outputs": []
    }
  ]
}